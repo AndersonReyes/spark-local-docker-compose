{
 "cells": [
  {
   "cell_type": "code",
   "execution_count": 1,
   "metadata": {},
   "outputs": [],
   "source": [
    "%%init_spark\n",
    "launcher.master = \"local[2]\"\n",
    "launcher.conf.spark.executor.cores = 2"
   ]
  },
  {
   "cell_type": "code",
   "execution_count": 2,
   "metadata": {},
   "outputs": [
    {
     "data": {
      "text/plain": [
       "Intitializing Scala interpreter ..."
      ]
     },
     "metadata": {},
     "output_type": "display_data"
    },
    {
     "data": {
      "text/plain": [
       "Spark Web UI available at http://d2ee8a409174:4040\n",
       "SparkContext available as 'sc' (version = 3.0.1, master = local[2], app id = local-1602648522451)\n",
       "SparkSession available as 'spark'\n"
      ]
     },
     "metadata": {},
     "output_type": "display_data"
    },
    {
     "data": {
      "text/plain": [
       "data: org.apache.spark.rdd.RDD[String] = github_issues.csv MapPartitionsRDD[1] at textFile at <console>:25\n"
      ]
     },
     "execution_count": 2,
     "metadata": {},
     "output_type": "execute_result"
    }
   ],
   "source": [
    "val data = sc.textFile(\"github_issues.csv\")"
   ]
  },
  {
   "cell_type": "code",
   "execution_count": 3,
   "metadata": {},
   "outputs": [
    {
     "data": {
      "text/plain": [
       "res0: Array[String] = Array(issue_url,issue_title,body, \"\"\"https://github.com/zhangyuanwei/node-images/issues/123\"\"\",can't load the addon. issue to: https://github.com/zhangyuanwei/node-images/issues error: /lib64/libc.so.6: version glibc_2.14' not found required by /usr/local/app/taf/fileserver.fileserver/bin/src/node_modules/images/bindings/linux/x64/8.0.0/binding.node,can't load the addon. issue to: https://github.com/zhangyuanwei/node-images/issues error: /lib64/libc.so.6: version glibc_2.14' not found required by /usr/local/app/taf/fileserver.fileserver/bin/src/node_modules/images/bindings/linux/x64/8.0.0/binding.node 有低点的版本，不需要glibc_2.14的吗, \"\"\"https://github.com/Microsoft/pxt/issues/2543\"\"\",hcl accessibility a11yblocking a11ymas mas4.2.10 hcl-makecode win10-edge -title screen read...\n"
      ]
     },
     "execution_count": 3,
     "metadata": {},
     "output_type": "execute_result"
    }
   ],
   "source": [
    "data.take(3)"
   ]
  },
  {
   "cell_type": "code",
   "execution_count": 4,
   "metadata": {},
   "outputs": [
    {
     "data": {
      "text/plain": [
       "issuesBody: org.apache.spark.rdd.RDD[String] = MapPartitionsRDD[2] at map at <console>:26\n"
      ]
     },
     "execution_count": 4,
     "metadata": {},
     "output_type": "execute_result"
    }
   ],
   "source": [
    "val issuesBody = data.map(_.split(\",\").last)"
   ]
  },
  {
   "cell_type": "code",
   "execution_count": 5,
   "metadata": {},
   "outputs": [
    {
     "data": {
      "text/plain": [
       "res1: Array[String] = Array(body, can't load the addon. issue to: https://github.com/zhangyuanwei/node-images/issues error: /lib64/libc.so.6: version glibc_2.14' not found required by /usr/local/app/taf/fileserver.fileserver/bin/src/node_modules/images/bindings/linux/x64/8.0.0/binding.node 有低点的版本，不需要glibc_2.14的吗, user experience: user who depends on screen reader will get confused if narrator focus does not retain on expand side a documentation button after pressing enter on collapse side a documentation button test environment os: rs2 version 1703 os build 15063.483 platform: edge. screen reader: narrator repro steps 1-navigate to https://makecode.microbit.org/acc 2-navigate to the micro bit section element and select code control given on it. 3-navigate to the help control lying in th...\n"
      ]
     },
     "execution_count": 5,
     "metadata": {},
     "output_type": "execute_result"
    }
   ],
   "source": [
    "issuesBody.take(3)"
   ]
  },
  {
   "cell_type": "code",
   "execution_count": 31,
   "metadata": {},
   "outputs": [
    {
     "data": {
      "text/plain": [
       "res: org.apache.spark.rdd.RDD[(String, Int)] = ShuffledRDD[26] at reduceByKey at <console>:26\n"
      ]
     },
     "execution_count": 31,
     "metadata": {},
     "output_type": "execute_result"
    }
   ],
   "source": [
    "val res = issuesBody.flatMap(_.split(\" \")).map((_, 1)).reduceByKey(_ + _)"
   ]
  },
  {
   "cell_type": "code",
   "execution_count": 32,
   "metadata": {},
   "outputs": [
    {
     "ename": "org.apache.spark.SparkException",
     "evalue": " Job aborted due to stage failure: Task 21 in stage 16.0 failed 1 times, most recent failure: Lost task 21.0 in stage 16.0 (TID 102, d2ee8a409174, executor driver): java.util.NoSuchElementException: next on empty iterator",
     "output_type": "error",
     "traceback": [
      "org.apache.spark.SparkException: Job aborted due to stage failure: Task 21 in stage 16.0 failed 1 times, most recent failure: Lost task 21.0 in stage 16.0 (TID 102, d2ee8a409174, executor driver): java.util.NoSuchElementException: next on empty iterator",
      "\tat scala.collection.Iterator$$anon$2.next(Iterator.scala:41)",
      "\tat scala.collection.Iterator$$anon$2.next(Iterator.scala:39)",
      "\tat scala.collection.IndexedSeqLike$Elements.next(IndexedSeqLike.scala:63)",
      "\tat scala.collection.IterableLike.head(IterableLike.scala:109)",
      "\tat scala.collection.IterableLike.head$(IterableLike.scala:108)",
      "\tat scala.collection.mutable.ArrayOps$ofRef.scala$collection$IndexedSeqOptimized$$super$head(ArrayOps.scala:198)",
      "\tat scala.collection.IndexedSeqOptimized.head(IndexedSeqOptimized.scala:129)",
      "\tat scala.collection.IndexedSeqOptimized.head$(IndexedSeqOptimized.scala:129)",
      "\tat scala.collection.mutable.ArrayOps$ofRef.head(ArrayOps.scala:198)",
      "\tat scala.collection.TraversableLike.last(TraversableLike.scala:519)",
      "\tat scala.collection.TraversableLike.last$(TraversableLike.scala:518)",
      "\tat scala.collection.mutable.ArrayOps$ofRef.scala$collection$IndexedSeqOptimized$$super$last(ArrayOps.scala:198)",
      "\tat scala.collection.IndexedSeqOptimized.last(IndexedSeqOptimized.scala:135)",
      "\tat scala.collection.IndexedSeqOptimized.last$(IndexedSeqOptimized.scala:135)",
      "\tat scala.collection.mutable.ArrayOps$ofRef.last(ArrayOps.scala:198)",
      "\tat $anonfun$issuesBody$1(<console>:26)",
      "\tat scala.collection.Iterator$$anon$10.next(Iterator.scala:459)",
      "\tat scala.collection.Iterator$$anon$11.nextCur(Iterator.scala:484)",
      "\tat scala.collection.Iterator$$anon$11.hasNext(Iterator.scala:490)",
      "\tat scala.collection.Iterator$$anon$10.hasNext(Iterator.scala:458)",
      "\tat org.apache.spark.util.collection.ExternalSorter.insertAll(ExternalSorter.scala:192)",
      "\tat org.apache.spark.shuffle.sort.SortShuffleWriter.write(SortShuffleWriter.scala:62)",
      "\tat org.apache.spark.shuffle.ShuffleWriteProcessor.write(ShuffleWriteProcessor.scala:59)",
      "\tat org.apache.spark.scheduler.ShuffleMapTask.runTask(ShuffleMapTask.scala:99)",
      "\tat org.apache.spark.scheduler.ShuffleMapTask.runTask(ShuffleMapTask.scala:52)",
      "\tat org.apache.spark.scheduler.Task.run(Task.scala:127)",
      "\tat org.apache.spark.executor.Executor$TaskRunner.$anonfun$run$3(Executor.scala:446)",
      "\tat org.apache.spark.util.Utils$.tryWithSafeFinally(Utils.scala:1377)",
      "\tat org.apache.spark.executor.Executor$TaskRunner.run(Executor.scala:449)",
      "\tat java.base/java.util.concurrent.ThreadPoolExecutor.runWorker(ThreadPoolExecutor.java:1128)",
      "\tat java.base/java.util.concurrent.ThreadPoolExecutor$Worker.run(ThreadPoolExecutor.java:628)",
      "\tat java.base/java.lang.Thread.run(Thread.java:834)",
      "",
      "Driver stacktrace:",
      "  at org.apache.spark.scheduler.DAGScheduler.failJobAndIndependentStages(DAGScheduler.scala:2059)",
      "  at org.apache.spark.scheduler.DAGScheduler.$anonfun$abortStage$2(DAGScheduler.scala:2008)",
      "  at org.apache.spark.scheduler.DAGScheduler.$anonfun$abortStage$2$adapted(DAGScheduler.scala:2007)",
      "  at scala.collection.mutable.ResizableArray.foreach(ResizableArray.scala:62)",
      "  at scala.collection.mutable.ResizableArray.foreach$(ResizableArray.scala:55)",
      "  at scala.collection.mutable.ArrayBuffer.foreach(ArrayBuffer.scala:49)",
      "  at org.apache.spark.scheduler.DAGScheduler.abortStage(DAGScheduler.scala:2007)",
      "  at org.apache.spark.scheduler.DAGScheduler.$anonfun$handleTaskSetFailed$1(DAGScheduler.scala:973)",
      "  at org.apache.spark.scheduler.DAGScheduler.$anonfun$handleTaskSetFailed$1$adapted(DAGScheduler.scala:973)",
      "  at scala.Option.foreach(Option.scala:407)",
      "  at org.apache.spark.scheduler.DAGScheduler.handleTaskSetFailed(DAGScheduler.scala:973)",
      "  at org.apache.spark.scheduler.DAGSchedulerEventProcessLoop.doOnReceive(DAGScheduler.scala:2239)",
      "  at org.apache.spark.scheduler.DAGSchedulerEventProcessLoop.onReceive(DAGScheduler.scala:2188)",
      "  at org.apache.spark.scheduler.DAGSchedulerEventProcessLoop.onReceive(DAGScheduler.scala:2177)",
      "  at org.apache.spark.util.EventLoop$$anon$1.run(EventLoop.scala:49)",
      "  at org.apache.spark.scheduler.DAGScheduler.runJob(DAGScheduler.scala:775)",
      "  at org.apache.spark.SparkContext.runJob(SparkContext.scala:2099)",
      "  at org.apache.spark.SparkContext.runJob(SparkContext.scala:2120)",
      "  at org.apache.spark.SparkContext.runJob(SparkContext.scala:2139)",
      "  at org.apache.spark.rdd.RDD.$anonfun$take$1(RDD.scala:1423)",
      "  at org.apache.spark.rdd.RDDOperationScope$.withScope(RDDOperationScope.scala:151)",
      "  at org.apache.spark.rdd.RDDOperationScope$.withScope(RDDOperationScope.scala:112)",
      "  at org.apache.spark.rdd.RDD.withScope(RDD.scala:388)",
      "  at org.apache.spark.rdd.RDD.take(RDD.scala:1396)",
      "  ... 36 elided",
      "Caused by: java.util.NoSuchElementException: next on empty iterator",
      "  at scala.collection.Iterator$$anon$2.next(Iterator.scala:41)",
      "  at scala.collection.Iterator$$anon$2.next(Iterator.scala:39)",
      "  at scala.collection.IndexedSeqLike$Elements.next(IndexedSeqLike.scala:63)",
      "  at scala.collection.IterableLike.head(IterableLike.scala:109)",
      "  at scala.collection.IterableLike.head$(IterableLike.scala:108)",
      "  at scala.collection.mutable.ArrayOps$ofRef.scala$collection$IndexedSeqOptimized$$super$head(ArrayOps.scala:198)",
      "  at scala.collection.IndexedSeqOptimized.head(IndexedSeqOptimized.scala:129)",
      "  at scala.collection.IndexedSeqOptimized.head$(IndexedSeqOptimized.scala:129)",
      "  at scala.collection.mutable.ArrayOps$ofRef.head(ArrayOps.scala:198)",
      "  at scala.collection.TraversableLike.last(TraversableLike.scala:519)",
      "  at scala.collection.TraversableLike.last$(TraversableLike.scala:518)",
      "  at scala.collection.mutable.ArrayOps$ofRef.scala$collection$IndexedSeqOptimized$$super$last(ArrayOps.scala:198)",
      "  at scala.collection.IndexedSeqOptimized.last(IndexedSeqOptimized.scala:135)",
      "  at scala.collection.IndexedSeqOptimized.last$(IndexedSeqOptimized.scala:135)",
      "  at scala.collection.mutable.ArrayOps$ofRef.last(ArrayOps.scala:198)",
      "  at $anonfun$issuesBody$1(<console>:26)",
      "  at scala.collection.Iterator$$anon$10.next(Iterator.scala:459)",
      "  at scala.collection.Iterator$$anon$11.nextCur(Iterator.scala:484)",
      "  at scala.collection.Iterator$$anon$11.hasNext(Iterator.scala:490)",
      "  at scala.collection.Iterator$$anon$10.hasNext(Iterator.scala:458)",
      "  at org.apache.spark.util.collection.ExternalSorter.insertAll(ExternalSorter.scala:192)",
      "  at org.apache.spark.shuffle.sort.SortShuffleWriter.write(SortShuffleWriter.scala:62)",
      "  at org.apache.spark.shuffle.ShuffleWriteProcessor.write(ShuffleWriteProcessor.scala:59)",
      "  at org.apache.spark.scheduler.ShuffleMapTask.runTask(ShuffleMapTask.scala:99)",
      "  at org.apache.spark.scheduler.ShuffleMapTask.runTask(ShuffleMapTask.scala:52)",
      "  at org.apache.spark.scheduler.Task.run(Task.scala:127)",
      "  at org.apache.spark.executor.Executor$TaskRunner.$anonfun$run$3(Executor.scala:446)",
      "  at org.apache.spark.util.Utils$.tryWithSafeFinally(Utils.scala:1377)",
      "  at org.apache.spark.executor.Executor$TaskRunner.run(Executor.scala:449)",
      "  at java.base/java.util.concurrent.ThreadPoolExecutor.runWorker(ThreadPoolExecutor.java:1128)",
      "  at java.base/java.util.concurrent.ThreadPoolExecutor$Worker.run(ThreadPoolExecutor.java:628)",
      "  ... 1 more",
      ""
     ]
    }
   ],
   "source": [
    "val sample = res.take(10)"
   ]
  },
  {
   "cell_type": "code",
   "execution_count": null,
   "metadata": {},
   "outputs": [],
   "source": []
  }
 ],
 "metadata": {
  "kernelspec": {
   "display_name": "spylon-kernel",
   "language": "scala",
   "name": "spylon-kernel"
  },
  "language_info": {
   "codemirror_mode": "text/x-scala",
   "file_extension": ".scala",
   "help_links": [
    {
     "text": "MetaKernel Magics",
     "url": "https://metakernel.readthedocs.io/en/latest/source/README.html"
    }
   ],
   "mimetype": "text/x-scala",
   "name": "scala",
   "pygments_lexer": "scala",
   "version": "0.4.1"
  }
 },
 "nbformat": 4,
 "nbformat_minor": 4
}
